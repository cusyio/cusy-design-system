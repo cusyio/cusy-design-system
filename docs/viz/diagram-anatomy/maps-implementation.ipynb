{
 "cells": [
  {
   "cell_type": "markdown",
   "metadata": {},
   "source": [
    "# Implementation Karten"
   ]
  },
  {
   "cell_type": "markdown",
   "metadata": {},
   "source": [
    "In [ipyleaflet](https://ipyleaflet.readthedocs.io/en/latest/index.html) können Bereiche benutzerdefinierbar eingefärbt werden. Die Bereiche können im .geojson-Format bereit gestellt werden."
   ]
  },
  {
   "cell_type": "markdown",
   "metadata": {},
   "source": [
    "Wir benötigen die Imports `Map` und `GeoJSON` aus `ipyleaflet` und `json`, um die .geojson-Datei einzulesen."
   ]
  },
  {
   "cell_type": "code",
   "execution_count": 1,
   "metadata": {},
   "outputs": [],
   "source": [
    "from ipyleaflet import Map, GeoJSON\n",
    "import json"
   ]
  },
  {
   "cell_type": "markdown",
   "metadata": {},
   "source": [
    "Anschließend definieren wir ein dict mit den IDs der Bundesländer als Schlüssel, und den zugehörigen Farben als Wert."
   ]
  },
  {
   "cell_type": "code",
   "execution_count": 2,
   "metadata": {},
   "outputs": [],
   "source": [
    "colors = {\n",
    "    \"DE-BW\": \"#008578\",    # Baden-Württemberg\n",
    "    \"DE-BY\": \"#129FD4\",    # Bayern\n",
    "    \"DE-BE\": \"#753BBD\",    # Berlin\n",
    "    \"DE-BB\": \"#4CA72B\",    # Brandenburg\n",
    "    \"DE-HB\": \"#0663B5\",    # Bremen\n",
    "    \"DE-HH\": \"#BD0F77\",    # Hamburg\n",
    "    \"DE-HE\": \"#0663B5\",    # Hessen\n",
    "    \"DE-MV\": \"#0663B5\",    # Mecklenburg-Vorpommern\n",
    "    \"DE-NI\": \"#DE2817\",    # Niedersachsen\n",
    "    \"DE-NW\": \"#129FD4\",    # Nordrhein-Westfalen\n",
    "    \"DE-RP\": \"#CD8402\",    # Rheinland-Pfalz\n",
    "    \"DE-SL\": \"#DE2817\",    # Saarland\n",
    "    \"DE-SN\": \"#757575\",    # Sachsen\n",
    "    \"DE-ST\": \"#BD0F77\",    # Sachsen-Anhalt\n",
    "    \"DE-SH\": \"#4CA72B\",    # Schleswig-Holstein\n",
    "    \"DE-TH\": \"#CD8402\",    # Thüringen\n",
    "}"
   ]
  },
  {
   "cell_type": "markdown",
   "metadata": {},
   "source": [
    "Jetzt lesen wir eine [.geojson-Datei](https://raw.githubusercontent.com/isellsoap/deutschlandGeoJSON/refs/heads/main/2_bundeslaender/2_hoch.geo.json) ein, die die Bundesländer Deutschlands enthält."
   ]
  },
  {
   "cell_type": "code",
   "execution_count": 3,
   "metadata": {},
   "outputs": [],
   "source": [
    "with open('germany_states.geojson', 'r') as f:\n",
    "    data = json.load(f)"
   ]
  },
  {
   "cell_type": "markdown",
   "metadata": {},
   "source": [
    "Die Farben werden den zugehörigen Bundesländern zugewiesen."
   ]
  },
  {
   "cell_type": "code",
   "execution_count": 4,
   "metadata": {},
   "outputs": [],
   "source": [
    "for feature in data['features']:\n",
    "    state_id = feature['properties']['id']\n",
    "    if state_id in colors:\n",
    "        feature['properties']['style'] = {\n",
    "            'color': colors[state_id],\n",
    "        }"
   ]
  },
  {
   "cell_type": "markdown",
   "metadata": {},
   "source": [
    "Wir erstellen die `Map` zentriert auf Deutschland."
   ]
  },
  {
   "cell_type": "code",
   "execution_count": null,
   "metadata": {},
   "outputs": [],
   "source": [
    "m = Map(center=(51.1657, 10.4515), zoom=5)"
   ]
  },
  {
   "cell_type": "markdown",
   "metadata": {},
   "source": [
    "Wir erstellen den `GeoJSON`-Layer und befüllen ihn mit den Daten aus der .geojson-Datei. Die Angabe `weight` im `style`-Argument bestimmt die Strichstärke der Umrandung.  \n",
    "Um die Karte anzuzeigen geben wir den Namen an."
   ]
  },
  {
   "cell_type": "code",
   "execution_count": 6,
   "metadata": {},
   "outputs": [
    {
     "data": {
      "application/vnd.jupyter.widget-view+json": {
       "model_id": "0562e3254da44769b83c331f189f5f63",
       "version_major": 2,
       "version_minor": 0
      },
      "text/plain": [
       "Map(center=[51.1657, 10.4515], controls=(ZoomControl(options=['position', 'zoom_in_text', 'zoom_in_title', 'zo…"
      ]
     },
     "execution_count": 6,
     "metadata": {},
     "output_type": "execute_result"
    }
   ],
   "source": [
    "geo_json = GeoJSON(\n",
    "    data = data,\n",
    "    style = {\n",
    "       'weight': .1\n",
    "    }\n",
    ")\n",
    "m.add(geo_json)\n",
    "m"
   ]
  }
 ],
 "metadata": {
  "kernelspec": {
   "display_name": ".venv",
   "language": "python",
   "name": "python3"
  },
  "language_info": {
   "codemirror_mode": {
    "name": "ipython",
    "version": 3
   },
   "file_extension": ".py",
   "mimetype": "text/x-python",
   "name": "python",
   "nbconvert_exporter": "python",
   "pygments_lexer": "ipython3",
   "version": "3.12.9"
  }
 },
 "nbformat": 4,
 "nbformat_minor": 2
}
