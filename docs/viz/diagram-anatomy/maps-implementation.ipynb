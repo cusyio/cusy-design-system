{
 "cells": [
  {
   "cell_type": "markdown",
   "metadata": {},
   "source": [
    "# Implementation Kartentexturen"
   ]
  },
  {
   "cell_type": "markdown",
   "metadata": {},
   "source": [
    "Für die Implementierung benutzen wir [leafmap](https://leafmap.org/), ein Open-Source-Modul, welches die Benutzung interaktiver Karten innerhalb von Jupyter Umgebungen ermöglicht. [MapLibreGL](https://leafmap.org/maplibre/overview/) erweitert die Funktionalität von leafmap, beispielsweise die [Einblendung von 3D-Gebäuden](https://leafmap.org/maplibre/3d_buildings/). In dieser Anleitung zeigen wir die [Hervorhebung von Gebieten](https://leafmap.org/maplibre/geojson_polygon/), die im .geojson-Format begrenzt werden."
   ]
  },
  {
   "cell_type": "code",
   "execution_count": 1,
   "metadata": {},
   "outputs": [],
   "source": [
    "import leafmap.maplibregl as leafmap\n",
    "import json"
   ]
  },
  {
   "cell_type": "markdown",
   "metadata": {},
   "source": [
    "Wir erstellen eine leafmap-Karte, die auf Deutschland zentriert ist."
   ]
  },
  {
   "cell_type": "code",
   "execution_count": 2,
   "metadata": {},
   "outputs": [],
   "source": [
    "m = leafmap.Map(zoom=5, center=[10.4515,51.1657], style=\"liberty\")"
   ]
  },
  {
   "cell_type": "markdown",
   "metadata": {},
   "source": [
    "Jetzt öffnen wir eine [.geojson-Datei](https://raw.githubusercontent.com/isellsoap/deutschlandGeoJSON/refs/heads/main/2_bundeslaender/2_hoch.geo.json), die die Formen der Bundesländer enthält. Anschließend definieren wir ein dict mit den IDs der Bundesländer und dem Verweis auf die jeweilige Textur. Bislang kann MapLibre noch nicht mit SVG-Dateien als Textur arbeiten."
   ]
  },
  {
   "cell_type": "code",
   "execution_count": 3,
   "metadata": {},
   "outputs": [],
   "source": [
    "with open(\"germany_states.geojson\", \"r\") as f:\n",
    "    geojson_data = json.load(f)\n",
    "\n",
    "pattern_mappings = {\n",
    "    \"DE-BW\": \"caretpattern.png\",     # Baden-Württemberg\n",
    "    \"DE-BY\": \"diamondpattern.png\",   # Bayern\n",
    "    \"DE-BE\": \"dotspattern.png\",      # Berlin\n",
    "    \"DE-BB\": \"tristarpattern.png\",   # Brandenburg\n",
    "    \"DE-HB\": \"spiralpattern.png\",    # Bremen\n",
    "    \"DE-HH\": \"squarepattern.png\",    # Hamburg\n",
    "    \"DE-HE\": \"spiralpattern.png\",    # Hessen\n",
    "    \"DE-MV\": \"spiralpattern.png\",    # Mecklenburg-Vorpommern\n",
    "    \"DE-NI\": \"crosspattern.png\",     # Niedersachsen\n",
    "    \"DE-NW\": \"diamondpattern.png\",   # Nordrhein-Westfalen\n",
    "    \"DE-RP\": \"trianglepattern.png\",  # Rheinland-Pfalz\n",
    "    \"DE-SL\": \"crosspattern.png\",     # Saarland\n",
    "    \"DE-SN\": \"stripepattern.png\",    # Sachsen\n",
    "    \"DE-ST\": \"squarepattern.png\",    # Sachsen-Anhalt\n",
    "    \"DE-SH\": \"tristarpattern.png\",   # Schleswig-Holstein\n",
    "    \"DE-TH\": \"trianglepattern.png\",  # Thüringen\n",
    "}"
   ]
  },
  {
   "cell_type": "markdown",
   "metadata": {},
   "source": [
    "Wir öffnen alle Texturdateien und verwenden die Funktion `add_image`, um die Dateien in leafmap bereitzustellen. Mit `add_source` werden die Bundesländer als Quellen geladen und mittels `add_layer` als Ebene mit Textur der Karte hinzugefügt."
   ]
  },
  {
   "cell_type": "code",
   "execution_count": 4,
   "metadata": {},
   "outputs": [],
   "source": [
    "# Alle Muster laden\n",
    "for state_id, pattern_file in pattern_mappings.items():\n",
    "    pattern_id = f\"pattern-{state_id}\"\n",
    "    pattern_url = f\"../../_static/pattern/png/{pattern_file}\"\n",
    "    m.add_image(pattern_id, pattern_url)\n",
    "\n",
    "# Jedes Bundesland als Quelle bzw. Ebene hinzufügen\n",
    "for feature in geojson_data[\"features\"]:\n",
    "    state_id = feature[\"properties\"][\"id\"]\n",
    "    state_name = feature[\"properties\"][\"name\"]\n",
    "    \n",
    "    source_id = f\"source-{state_id}\"\n",
    "    source = {\n",
    "        \"type\": \"geojson\",\n",
    "        \"data\": feature\n",
    "    }\n",
    "    m.add_source(source_id, source)\n",
    "    \n",
    "    layer_id = f\"layer-{state_id}\"\n",
    "    layer = {\n",
    "        \"id\": layer_id,\n",
    "        \"type\": \"fill\",\n",
    "        \"source\": source_id,\n",
    "        \"paint\": {\"fill-pattern\": f\"pattern-{state_id}\"}\n",
    "    }\n",
    "    m.add_layer(layer, 'label_other')\n",
    "    \n",
    "    # Umriss der Bundesländer hinzufügen\n",
    "    outline_layer_id = f\"outline-{state_id}\"\n",
    "    outline_layer = {\n",
    "        \"id\": outline_layer_id,\n",
    "        \"type\": \"line\",\n",
    "        \"source\": source_id,\n",
    "        \"paint\": {\n",
    "            \"line-color\": \"#000000\",\n",
    "            \"line-width\": 1\n",
    "        }\n",
    "    }\n",
    "    m.add_layer(outline_layer, 'label_other')"
   ]
  },
  {
   "cell_type": "markdown",
   "metadata": {},
   "source": [
    "Um die Karte anzuzeigen geben wir den Namen an:"
   ]
  },
  {
   "cell_type": "code",
   "execution_count": 5,
   "metadata": {},
   "outputs": [
    {
     "data": {
      "application/vnd.jupyter.widget-view+json": {
       "model_id": "455e4095360a4de8a1f79cc55b294609",
       "version_major": 2,
       "version_minor": 1
      },
      "text/plain": [
       "Map(height='600px', map_options={'bearing': 0, 'center': (10.4515, 51.1657), 'pitch': 0, 'style': 'https://til…"
      ]
     },
     "execution_count": 5,
     "metadata": {},
     "output_type": "execute_result"
    }
   ],
   "source": [
    "m"
   ]
  }
 ],
 "metadata": {
  "kernelspec": {
   "display_name": "Python 3 (ipykernel)",
   "language": "python",
   "name": "python3"
  },
  "language_info": {
   "codemirror_mode": {
    "name": "ipython",
    "version": 3
   },
   "file_extension": ".py",
   "mimetype": "text/x-python",
   "name": "python",
   "nbconvert_exporter": "python",
   "pygments_lexer": "ipython3",
   "version": "3.12.9"
  }
 },
 "nbformat": 4,
 "nbformat_minor": 4
}
