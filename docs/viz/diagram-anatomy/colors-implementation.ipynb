{
 "cells": [
  {
   "cell_type": "markdown",
   "metadata": {},
   "source": [
    "# Implementation von Texturen\n",
    "\n",
    "Sowohl in Bokeh als auch in Altair können benutzerdefinierte Muster verwendet werden."
   ]
  },
  {
   "cell_type": "markdown",
   "metadata": {},
   "source": [
    "## Implementation Bokeh\n",
    "\n",
    "In Bokeh werden ganze Dateien geladen, deswegen muss bei Tilings dafür gesorgt werden, dass die SVG ein Rechteck enthält, dessen Maße passend zu einer Tile sind und als `fill` das Pattern enthält.\n",
    "\n",
    "Wir benötigen folgende Importe, um Bokeh zu verwenden und im Notebook anzuzeigen,\n",
    "um lokale Dateien verwenden zu können, müssen wir [base64](https://developer.mozilla.org/de/docs/Glossary/Base64)-codieren."
   ]
  },
  {
   "cell_type": "code",
   "execution_count": 1,
   "metadata": {},
   "outputs": [
    {
     "data": {
      "text/html": [
       "    <style>\n",
       "        .bk-notebook-logo {\n",
       "            display: block;\n",
       "            width: 20px;\n",
       "            height: 20px;\n",
       "            background-image: url(data:image/png;base64,iVBORw0KGgoAAAANSUhEUgAAABQAAAAUCAYAAACNiR0NAAAABHNCSVQICAgIfAhkiAAAAAlwSFlzAAALEgAACxIB0t1+/AAAABx0RVh0U29mdHdhcmUAQWRvYmUgRmlyZXdvcmtzIENTNui8sowAAAOkSURBVDiNjZRtaJVlGMd/1/08zzln5zjP1LWcU9N0NkN8m2CYjpgQYQXqSs0I84OLIC0hkEKoPtiH3gmKoiJDU7QpLgoLjLIQCpEsNJ1vqUOdO7ppbuec5+V+rj4ctwzd8IIbbi6u+8f1539dt3A78eXC7QizUF7gyV1fD1Yqg4JWz84yffhm0qkFqBogB9rM8tZdtwVsPUhWhGcFJngGeWrPzHm5oaMmkfEg1usvLFyc8jLRqDOMru7AyC8saQr7GG7f5fvDeH7Ej8CM66nIF+8yngt6HWaKh7k49Soy9nXurCi1o3qUbS3zWfrYeQDTB/Qj6kX6Ybhw4B+bOYoLKCC9H3Nu/leUTZ1JdRWkkn2ldcCamzrcf47KKXdAJllSlxAOkRgyHsGC/zRday5Qld9DyoM4/q/rUoy/CXh3jzOu3bHUVZeU+DEn8FInkPBFlu3+nW3Nw0mk6vCDiWg8CeJaxEwuHS3+z5RgY+YBR6V1Z1nxSOfoaPa4LASWxxdNp+VWTk7+4vzaou8v8PN+xo+KY2xsw6une2frhw05CTYOmQvsEhjhWjn0bmXPjpE1+kplmmkP3suftwTubK9Vq22qKmrBhpY4jvd5afdRA3wGjFAgcnTK2s4hY0/GPNIb0nErGMCRxWOOX64Z8RAC4oCXdklmEvcL8o0BfkNK4lUg9HTl+oPlQxdNo3Mg4Nv175e/1LDGzZen30MEjRUtmXSfiTVu1kK8W4txyV6BMKlbgk3lMwYCiusNy9fVfvvwMxv8Ynl6vxoByANLTWplvuj/nF9m2+PDtt1eiHPBr1oIfhCChQMBw6Aw0UulqTKZdfVvfG7VcfIqLG9bcldL/+pdWTLxLUy8Qq38heUIjh4XlzZxzQm19lLFlr8vdQ97rjZVOLf8nclzckbcD4wxXMidpX30sFd37Fv/GtwwhzhxGVAprjbg0gCAEeIgwCZyTV2Z1REEW8O4py0wsjeloKoMr6iCY6dP92H6Vw/oTyICIthibxjm/DfN9lVz8IqtqKYLUXfoKVMVQVVJOElGjrnnUt9T9wbgp8AyYKaGlqingHZU/uG2NTZSVqwHQTWkx9hxjkpWDaCg6Ckj5qebgBVbT3V3NNXMSiWSDdGV3hrtzla7J+duwPOToIg42ChPQOQjspnSlp1V+Gjdged7+8UN5CRAV7a5EdFNwCjEaBR27b3W890TE7g24NAP/mMDXRWrGoFPQI9ls/MWO2dWFAar/xcOIImbbpA3zgAAAABJRU5ErkJggg==);\n",
       "        }\n",
       "    </style>\n",
       "    <div>\n",
       "        <a href=\"https://bokeh.org\" target=\"_blank\" class=\"bk-notebook-logo\"></a>\n",
       "        <span id=\"cb81881b-89f8-4787-9675-91f606fdb62d\">Loading BokehJS ...</span>\n",
       "    </div>\n"
      ]
     },
     "metadata": {},
     "output_type": "display_data"
    },
    {
     "data": {
      "application/javascript": "'use strict';\n(function(root) {\n  function now() {\n    return new Date();\n  }\n\n  const force = true;\n\n  if (typeof root._bokeh_onload_callbacks === \"undefined\" || force === true) {\n    root._bokeh_onload_callbacks = [];\n    root._bokeh_is_loading = undefined;\n  }\n\nconst JS_MIME_TYPE = 'application/javascript';\n  const HTML_MIME_TYPE = 'text/html';\n  const EXEC_MIME_TYPE = 'application/vnd.bokehjs_exec.v0+json';\n  const CLASS_NAME = 'output_bokeh rendered_html';\n\n  /**\n   * Render data to the DOM node\n   */\n  function render(props, node) {\n    const script = document.createElement(\"script\");\n    node.appendChild(script);\n  }\n\n  /**\n   * Handle when an output is cleared or removed\n   */\n  function handleClearOutput(event, handle) {\n    function drop(id) {\n      const view = Bokeh.index.get_by_id(id)\n      if (view != null) {\n        view.model.document.clear()\n        Bokeh.index.delete(view)\n      }\n    }\n\n    const cell = handle.cell;\n\n    const id = cell.output_area._bokeh_element_id;\n    const server_id = cell.output_area._bokeh_server_id;\n\n    // Clean up Bokeh references\n    if (id != null) {\n      drop(id)\n    }\n\n    if (server_id !== undefined) {\n      // Clean up Bokeh references\n      const cmd_clean = \"from bokeh.io.state import curstate; print(curstate().uuid_to_server['\" + server_id + \"'].get_sessions()[0].document.roots[0]._id)\";\n      cell.notebook.kernel.execute(cmd_clean, {\n        iopub: {\n          output: function(msg) {\n            const id = msg.content.text.trim()\n            drop(id)\n          }\n        }\n      });\n      // Destroy server and session\n      const cmd_destroy = \"import bokeh.io.notebook as ion; ion.destroy_server('\" + server_id + \"')\";\n      cell.notebook.kernel.execute(cmd_destroy);\n    }\n  }\n\n  /**\n   * Handle when a new output is added\n   */\n  function handleAddOutput(event, handle) {\n    const output_area = handle.output_area;\n    const output = handle.output;\n\n    // limit handleAddOutput to display_data with EXEC_MIME_TYPE content only\n    if ((output.output_type != \"display_data\") || (!Object.prototype.hasOwnProperty.call(output.data, EXEC_MIME_TYPE))) {\n      return\n    }\n\n    const toinsert = output_area.element.find(\".\" + CLASS_NAME.split(' ')[0]);\n\n    if (output.metadata[EXEC_MIME_TYPE][\"id\"] !== undefined) {\n      toinsert[toinsert.length - 1].firstChild.textContent = output.data[JS_MIME_TYPE];\n      // store reference to embed id on output_area\n      output_area._bokeh_element_id = output.metadata[EXEC_MIME_TYPE][\"id\"];\n    }\n    if (output.metadata[EXEC_MIME_TYPE][\"server_id\"] !== undefined) {\n      const bk_div = document.createElement(\"div\");\n      bk_div.innerHTML = output.data[HTML_MIME_TYPE];\n      const script_attrs = bk_div.children[0].attributes;\n      for (let i = 0; i < script_attrs.length; i++) {\n        toinsert[toinsert.length - 1].firstChild.setAttribute(script_attrs[i].name, script_attrs[i].value);\n        toinsert[toinsert.length - 1].firstChild.textContent = bk_div.children[0].textContent\n      }\n      // store reference to server id on output_area\n      output_area._bokeh_server_id = output.metadata[EXEC_MIME_TYPE][\"server_id\"];\n    }\n  }\n\n  function register_renderer(events, OutputArea) {\n\n    function append_mime(data, metadata, element) {\n      // create a DOM node to render to\n      const toinsert = this.create_output_subarea(\n        metadata,\n        CLASS_NAME,\n        EXEC_MIME_TYPE\n      );\n      this.keyboard_manager.register_events(toinsert);\n      // Render to node\n      const props = {data: data, metadata: metadata[EXEC_MIME_TYPE]};\n      render(props, toinsert[toinsert.length - 1]);\n      element.append(toinsert);\n      return toinsert\n    }\n\n    /* Handle when an output is cleared or removed */\n    events.on('clear_output.CodeCell', handleClearOutput);\n    events.on('delete.Cell', handleClearOutput);\n\n    /* Handle when a new output is added */\n    events.on('output_added.OutputArea', handleAddOutput);\n\n    /**\n     * Register the mime type and append_mime function with output_area\n     */\n    OutputArea.prototype.register_mime_type(EXEC_MIME_TYPE, append_mime, {\n      /* Is output safe? */\n      safe: true,\n      /* Index of renderer in `output_area.display_order` */\n      index: 0\n    });\n  }\n\n  // register the mime type if in Jupyter Notebook environment and previously unregistered\n  if (root.Jupyter !== undefined) {\n    const events = require('base/js/events');\n    const OutputArea = require('notebook/js/outputarea').OutputArea;\n\n    if (OutputArea.prototype.mime_types().indexOf(EXEC_MIME_TYPE) == -1) {\n      register_renderer(events, OutputArea);\n    }\n  }\n  if (typeof (root._bokeh_timeout) === \"undefined\" || force === true) {\n    root._bokeh_timeout = Date.now() + 5000;\n    root._bokeh_failed_load = false;\n  }\n\n  const NB_LOAD_WARNING = {'data': {'text/html':\n     \"<div style='background-color: #fdd'>\\n\"+\n     \"<p>\\n\"+\n     \"BokehJS does not appear to have successfully loaded. If loading BokehJS from CDN, this \\n\"+\n     \"may be due to a slow or bad network connection. Possible fixes:\\n\"+\n     \"</p>\\n\"+\n     \"<ul>\\n\"+\n     \"<li>re-rerun `output_notebook()` to attempt to load from CDN again, or</li>\\n\"+\n     \"<li>use INLINE resources instead, as so:</li>\\n\"+\n     \"</ul>\\n\"+\n     \"<code>\\n\"+\n     \"from bokeh.resources import INLINE\\n\"+\n     \"output_notebook(resources=INLINE)\\n\"+\n     \"</code>\\n\"+\n     \"</div>\"}};\n\n  function display_loaded(error = null) {\n    const el = document.getElementById(\"cb81881b-89f8-4787-9675-91f606fdb62d\");\n    if (el != null) {\n      const html = (() => {\n        if (typeof root.Bokeh === \"undefined\") {\n          if (error == null) {\n            return \"BokehJS is loading ...\";\n          } else {\n            return \"BokehJS failed to load.\";\n          }\n        } else {\n          const prefix = `BokehJS ${root.Bokeh.version}`;\n          if (error == null) {\n            return `${prefix} successfully loaded.`;\n          } else {\n            return `${prefix} <b>encountered errors</b> while loading and may not function as expected.`;\n          }\n        }\n      })();\n      el.innerHTML = html;\n\n      if (error != null) {\n        const wrapper = document.createElement(\"div\");\n        wrapper.style.overflow = \"auto\";\n        wrapper.style.height = \"5em\";\n        wrapper.style.resize = \"vertical\";\n        const content = document.createElement(\"div\");\n        content.style.fontFamily = \"monospace\";\n        content.style.whiteSpace = \"pre-wrap\";\n        content.style.backgroundColor = \"rgb(255, 221, 221)\";\n        content.textContent = error.stack ?? error.toString();\n        wrapper.append(content);\n        el.append(wrapper);\n      }\n    } else if (Date.now() < root._bokeh_timeout) {\n      setTimeout(() => display_loaded(error), 100);\n    }\n  }\n\n  function run_callbacks() {\n    try {\n      root._bokeh_onload_callbacks.forEach(function(callback) {\n        if (callback != null)\n          callback();\n      });\n    } finally {\n      delete root._bokeh_onload_callbacks\n    }\n    console.debug(\"Bokeh: all callbacks have finished\");\n  }\n\n  function load_libs(css_urls, js_urls, callback) {\n    if (css_urls == null) css_urls = [];\n    if (js_urls == null) js_urls = [];\n\n    root._bokeh_onload_callbacks.push(callback);\n    if (root._bokeh_is_loading > 0) {\n      console.debug(\"Bokeh: BokehJS is being loaded, scheduling callback at\", now());\n      return null;\n    }\n    if (js_urls == null || js_urls.length === 0) {\n      run_callbacks();\n      return null;\n    }\n    console.debug(\"Bokeh: BokehJS not loaded, scheduling load and callback at\", now());\n    root._bokeh_is_loading = css_urls.length + js_urls.length;\n\n    function on_load() {\n      root._bokeh_is_loading--;\n      if (root._bokeh_is_loading === 0) {\n        console.debug(\"Bokeh: all BokehJS libraries/stylesheets loaded\");\n        run_callbacks()\n      }\n    }\n\n    function on_error(url) {\n      console.error(\"failed to load \" + url);\n    }\n\n    for (let i = 0; i < css_urls.length; i++) {\n      const url = css_urls[i];\n      const element = document.createElement(\"link\");\n      element.onload = on_load;\n      element.onerror = on_error.bind(null, url);\n      element.rel = \"stylesheet\";\n      element.type = \"text/css\";\n      element.href = url;\n      console.debug(\"Bokeh: injecting link tag for BokehJS stylesheet: \", url);\n      document.body.appendChild(element);\n    }\n\n    for (let i = 0; i < js_urls.length; i++) {\n      const url = js_urls[i];\n      const element = document.createElement('script');\n      element.onload = on_load;\n      element.onerror = on_error.bind(null, url);\n      element.async = false;\n      element.src = url;\n      console.debug(\"Bokeh: injecting script tag for BokehJS library: \", url);\n      document.head.appendChild(element);\n    }\n  };\n\n  function inject_raw_css(css) {\n    const element = document.createElement(\"style\");\n    element.appendChild(document.createTextNode(css));\n    document.body.appendChild(element);\n  }\n\n  const js_urls = [\"https://cdn.bokeh.org/bokeh/release/bokeh-3.6.3.min.js\", \"https://cdn.bokeh.org/bokeh/release/bokeh-gl-3.6.3.min.js\", \"https://cdn.bokeh.org/bokeh/release/bokeh-widgets-3.6.3.min.js\", \"https://cdn.bokeh.org/bokeh/release/bokeh-tables-3.6.3.min.js\", \"https://cdn.bokeh.org/bokeh/release/bokeh-mathjax-3.6.3.min.js\"];\n  const css_urls = [];\n\n  const inline_js = [    function(Bokeh) {\n      Bokeh.set_log_level(\"info\");\n    },\nfunction(Bokeh) {\n    }\n  ];\n\n  function run_inline_js() {\n    if (root.Bokeh !== undefined || force === true) {\n      try {\n            for (let i = 0; i < inline_js.length; i++) {\n      inline_js[i].call(root, root.Bokeh);\n    }\n\n      } catch (error) {display_loaded(error);throw error;\n      }if (force === true) {\n        display_loaded();\n      }} else if (Date.now() < root._bokeh_timeout) {\n      setTimeout(run_inline_js, 100);\n    } else if (!root._bokeh_failed_load) {\n      console.log(\"Bokeh: BokehJS failed to load within specified timeout.\");\n      root._bokeh_failed_load = true;\n    } else if (force !== true) {\n      const cell = $(document.getElementById(\"cb81881b-89f8-4787-9675-91f606fdb62d\")).parents('.cell').data().cell;\n      cell.output_area.append_execute_result(NB_LOAD_WARNING)\n    }\n  }\n\n  if (root._bokeh_is_loading === 0) {\n    console.debug(\"Bokeh: BokehJS loaded, going straight to plotting\");\n    run_inline_js();\n  } else {\n    load_libs(css_urls, js_urls, function() {\n      console.debug(\"Bokeh: BokehJS plotting callback run at\", now());\n      run_inline_js();\n    });\n  }\n}(window));",
      "application/vnd.bokehjs_load.v0+json": ""
     },
     "metadata": {},
     "output_type": "display_data"
    }
   ],
   "source": [
    "from bokeh.io import show, output_notebook\n",
    "from bokeh.plotting import figure\n",
    "from bokeh.models import ImageURLTexture\n",
    "import base64\n",
    "\n",
    "output_notebook()"
   ]
  },
  {
   "cell_type": "markdown",
   "metadata": {},
   "source": [
    "Dann definieren wir eine Liste mit den Dateinamen der SVG-Dateien:"
   ]
  },
  {
   "cell_type": "code",
   "execution_count": 2,
   "metadata": {},
   "outputs": [],
   "source": [
    "svg_files = [\n",
    "    \"dotspattern.svg\",\n",
    "    \"caretpattern.svg\",\n",
    "    \"trianglepattern.svg\",\n",
    "    \"spiralpattern.svg\",\n",
    "    \"crosspattern.svg\",\n",
    "    \"diamondpattern.svg\",\n",
    "    \"squarepattern.svg\",\n",
    "    \"tristarpattern.svg\"\n",
    "]"
   ]
  },
  {
   "cell_type": "markdown",
   "metadata": {},
   "source": [
    "Wir codieren die lokalen SVG-Dateien zu Base64-Data-URLs, \n",
    "dies ist für online verfügbare Dateien nicht nötig, schadet dort aber auch nicht."
   ]
  },
  {
   "cell_type": "code",
   "execution_count": 3,
   "metadata": {},
   "outputs": [],
   "source": [
    "# Funktion zum Umwandeln der SVGs in Base64-URLs\n",
    "def svg_to_base64(svg_path):\n",
    "    with open(svg_path, \"rb\") as svg_file:\n",
    "        encoded_svg = base64.b64encode(svg_file.read()).decode(\"utf-8\")\n",
    "    return f\"data:image/svg+xml;base64,{encoded_svg}\"\n",
    "\n",
    "# Dictionary aus Hatchpattern und SVGs erstellen\n",
    "hatch_patterns = {f\"pattern_{i}\": \n",
    "    ImageURLTexture(\n",
    "        url=svg_to_base64(\"../../_static/pattern/\"+svg_files[i])\n",
    "                    ) for i in range(len(svg_files))}"
   ]
  },
  {
   "cell_type": "markdown",
   "metadata": {},
   "source": [
    "Farbnamen als Bezeichner der x-Achse und Beispielwerte für den Plot:"
   ]
  },
  {
   "cell_type": "code",
   "execution_count": 4,
   "metadata": {},
   "outputs": [],
   "source": [
    "categories = [\"Purple\", \"Teal\", \"Orange\", \"Blue\", \"Red\", \"Cyan\", \"Magenta\", \"Green\"]\n",
    "values = [90, 80, 50, 55, 50, 60, 40, 80]"
   ]
  },
  {
   "cell_type": "markdown",
   "metadata": {},
   "source": [
    "Nun erstellen wir den Bokeh-Plot mit einem Säulendiagramm (`vbar`)"
   ]
  },
  {
   "cell_type": "code",
   "execution_count": 5,
   "metadata": {},
   "outputs": [
    {
     "data": {
      "text/html": [
       "<div style=\"display: table;\"><div style=\"display: table-row;\"><div style=\"display: table-cell;\"><b title=\"bokeh.models.renderers.glyph_renderer.GlyphRenderer\">GlyphRenderer</b>(</div><div style=\"display: table-cell;\">id&nbsp;=&nbsp;'p1038', <span id=\"p1042\" style=\"cursor: pointer;\">&hellip;)</span></div></div><div class=\"p1041\" style=\"display: none;\"><div style=\"display: table-cell;\"></div><div style=\"display: table-cell;\">context_menu&nbsp;=&nbsp;None,</div></div><div class=\"p1041\" style=\"display: none;\"><div style=\"display: table-cell;\"></div><div style=\"display: table-cell;\">coordinates&nbsp;=&nbsp;None,</div></div><div class=\"p1041\" style=\"display: none;\"><div style=\"display: table-cell;\"></div><div style=\"display: table-cell;\">css_classes&nbsp;=&nbsp;[],</div></div><div class=\"p1041\" style=\"display: none;\"><div style=\"display: table-cell;\"></div><div style=\"display: table-cell;\">css_variables&nbsp;=&nbsp;{},</div></div><div class=\"p1041\" style=\"display: none;\"><div style=\"display: table-cell;\"></div><div style=\"display: table-cell;\">data_source&nbsp;=&nbsp;ColumnDataSource(id='p1032', ...),</div></div><div class=\"p1041\" style=\"display: none;\"><div style=\"display: table-cell;\"></div><div style=\"display: table-cell;\">glyph&nbsp;=&nbsp;VBar(id='p1035', ...),</div></div><div class=\"p1041\" style=\"display: none;\"><div style=\"display: table-cell;\"></div><div style=\"display: table-cell;\">group&nbsp;=&nbsp;None,</div></div><div class=\"p1041\" style=\"display: none;\"><div style=\"display: table-cell;\"></div><div style=\"display: table-cell;\">hover_glyph&nbsp;=&nbsp;None,</div></div><div class=\"p1041\" style=\"display: none;\"><div style=\"display: table-cell;\"></div><div style=\"display: table-cell;\">js_event_callbacks&nbsp;=&nbsp;{},</div></div><div class=\"p1041\" style=\"display: none;\"><div style=\"display: table-cell;\"></div><div style=\"display: table-cell;\">js_property_callbacks&nbsp;=&nbsp;{},</div></div><div class=\"p1041\" style=\"display: none;\"><div style=\"display: table-cell;\"></div><div style=\"display: table-cell;\">level&nbsp;=&nbsp;'glyph',</div></div><div class=\"p1041\" style=\"display: none;\"><div style=\"display: table-cell;\"></div><div style=\"display: table-cell;\">muted&nbsp;=&nbsp;False,</div></div><div class=\"p1041\" style=\"display: none;\"><div style=\"display: table-cell;\"></div><div style=\"display: table-cell;\">muted_glyph&nbsp;=&nbsp;VBar(id='p1037', ...),</div></div><div class=\"p1041\" style=\"display: none;\"><div style=\"display: table-cell;\"></div><div style=\"display: table-cell;\">name&nbsp;=&nbsp;None,</div></div><div class=\"p1041\" style=\"display: none;\"><div style=\"display: table-cell;\"></div><div style=\"display: table-cell;\">nonselection_glyph&nbsp;=&nbsp;VBar(id='p1036', ...),</div></div><div class=\"p1041\" style=\"display: none;\"><div style=\"display: table-cell;\"></div><div style=\"display: table-cell;\">propagate_hover&nbsp;=&nbsp;False,</div></div><div class=\"p1041\" style=\"display: none;\"><div style=\"display: table-cell;\"></div><div style=\"display: table-cell;\">selection_glyph&nbsp;=&nbsp;'auto',</div></div><div class=\"p1041\" style=\"display: none;\"><div style=\"display: table-cell;\"></div><div style=\"display: table-cell;\">styles&nbsp;=&nbsp;{},</div></div><div class=\"p1041\" style=\"display: none;\"><div style=\"display: table-cell;\"></div><div style=\"display: table-cell;\">stylesheets&nbsp;=&nbsp;[],</div></div><div class=\"p1041\" style=\"display: none;\"><div style=\"display: table-cell;\"></div><div style=\"display: table-cell;\">subscribed_events&nbsp;=&nbsp;PropertyValueSet(),</div></div><div class=\"p1041\" style=\"display: none;\"><div style=\"display: table-cell;\"></div><div style=\"display: table-cell;\">syncable&nbsp;=&nbsp;True,</div></div><div class=\"p1041\" style=\"display: none;\"><div style=\"display: table-cell;\"></div><div style=\"display: table-cell;\">tags&nbsp;=&nbsp;[],</div></div><div class=\"p1041\" style=\"display: none;\"><div style=\"display: table-cell;\"></div><div style=\"display: table-cell;\">view&nbsp;=&nbsp;CDSView(id='p1039', ...),</div></div><div class=\"p1041\" style=\"display: none;\"><div style=\"display: table-cell;\"></div><div style=\"display: table-cell;\">visible&nbsp;=&nbsp;True,</div></div><div class=\"p1041\" style=\"display: none;\"><div style=\"display: table-cell;\"></div><div style=\"display: table-cell;\">x_range_name&nbsp;=&nbsp;'default',</div></div><div class=\"p1041\" style=\"display: none;\"><div style=\"display: table-cell;\"></div><div style=\"display: table-cell;\">y_range_name&nbsp;=&nbsp;'default')</div></div></div>\n",
       "<script>\n",
       "(function() {\n",
       "  let expanded = false;\n",
       "  const ellipsis = document.getElementById(\"p1042\");\n",
       "  ellipsis.addEventListener(\"click\", function() {\n",
       "    const rows = document.getElementsByClassName(\"p1041\");\n",
       "    for (let i = 0; i < rows.length; i++) {\n",
       "      const el = rows[i];\n",
       "      el.style.display = expanded ? \"none\" : \"table-row\";\n",
       "    }\n",
       "    ellipsis.innerHTML = expanded ? \"&hellip;)\" : \"&lsaquo;&lsaquo;&lsaquo;\";\n",
       "    expanded = !expanded;\n",
       "  });\n",
       "})();\n",
       "</script>\n"
      ],
      "text/plain": [
       "GlyphRenderer(id='p1038', ...)"
      ]
     },
     "execution_count": 5,
     "metadata": {},
     "output_type": "execute_result"
    }
   ],
   "source": [
    "p = figure(x_range=categories, height=400, \n",
    "           title=\"cusy Pattern Example\", tools=\"\")\n",
    "\n",
    "p.vbar(x=categories, top=values, width=0.9,\n",
    "       fill_color=\"#75757533\",      # Hintergrundfarbe der Säulen\n",
    "       hatch_extra=hatch_patterns,  # Pattern anwenden\n",
    "       hatch_pattern=[f\"pattern_{i}\" for i in range(len(categories))],\n",
    "       line_color=None)"
   ]
  },
  {
   "cell_type": "markdown",
   "metadata": {},
   "source": [
    "Um die SVG-Muster anzeigen zu lassen, müssen wir das SVG-Backend auswählen."
   ]
  },
  {
   "cell_type": "code",
   "execution_count": 6,
   "metadata": {},
   "outputs": [
    {
     "data": {
      "text/html": [
       "\n",
       "  <div id=\"f8883afe-5547-4dd8-9c56-66dd52c994e7\" data-root-id=\"p1009\" style=\"display: contents;\"></div>\n"
      ]
     },
     "metadata": {},
     "output_type": "display_data"
    },
    {
     "data": {
      "application/javascript": "(function(root) {\n  function embed_document(root) {\n  const docs_json = {\"04659f55-60f5-430b-9667-6dcd48d64828\":{\"version\":\"3.6.3\",\"title\":\"Bokeh Application\",\"roots\":[{\"type\":\"object\",\"name\":\"Figure\",\"id\":\"p1009\",\"attributes\":{\"height\":400,\"x_range\":{\"type\":\"object\",\"name\":\"FactorRange\",\"id\":\"p1019\",\"attributes\":{\"factors\":[\"Purple\",\"Teal\",\"Orange\",\"Blue\",\"Red\",\"Cyan\",\"Magenta\",\"Green\"]}},\"y_range\":{\"type\":\"object\",\"name\":\"DataRange1d\",\"id\":\"p1011\",\"attributes\":{\"start\":0}},\"x_scale\":{\"type\":\"object\",\"name\":\"CategoricalScale\",\"id\":\"p1020\"},\"y_scale\":{\"type\":\"object\",\"name\":\"LinearScale\",\"id\":\"p1021\"},\"title\":{\"type\":\"object\",\"name\":\"Title\",\"id\":\"p1012\",\"attributes\":{\"text\":\"cusy Pattern Example\"}},\"renderers\":[{\"type\":\"object\",\"name\":\"GlyphRenderer\",\"id\":\"p1038\",\"attributes\":{\"data_source\":{\"type\":\"object\",\"name\":\"ColumnDataSource\",\"id\":\"p1032\",\"attributes\":{\"selected\":{\"type\":\"object\",\"name\":\"Selection\",\"id\":\"p1033\",\"attributes\":{\"indices\":[],\"line_indices\":[]}},\"selection_policy\":{\"type\":\"object\",\"name\":\"UnionRenderers\",\"id\":\"p1034\"},\"data\":{\"type\":\"map\",\"entries\":[[\"x\",[\"Purple\",\"Teal\",\"Orange\",\"Blue\",\"Red\",\"Cyan\",\"Magenta\",\"Green\"]],[\"top\",[90,80,50,55,50,60,40,80]],[\"hatch_pattern\",[\"pattern_0\",\"pattern_1\",\"pattern_2\",\"pattern_3\",\"pattern_4\",\"pattern_5\",\"pattern_6\",\"pattern_7\"]]]}}},\"view\":{\"type\":\"object\",\"name\":\"CDSView\",\"id\":\"p1039\",\"attributes\":{\"filter\":{\"type\":\"object\",\"name\":\"AllIndices\",\"id\":\"p1040\"}}},\"glyph\":{\"type\":\"object\",\"name\":\"VBar\",\"id\":\"p1035\",\"attributes\":{\"x\":{\"type\":\"field\",\"field\":\"x\"},\"width\":{\"type\":\"value\",\"value\":0.9},\"top\":{\"type\":\"field\",\"field\":\"top\"},\"line_color\":{\"type\":\"value\",\"value\":null},\"fill_color\":{\"type\":\"value\",\"value\":\"#75757533\"},\"hatch_pattern\":{\"type\":\"field\",\"field\":\"hatch_pattern\"},\"hatch_extra\":{\"type\":\"map\",\"entries\":[[\"pattern_0\",{\"type\":\"object\",\"name\":\"ImageURLTexture\",\"id\":\"p1001\",\"attributes\":{\"url\":\"data:image/svg+xml;base64,PHN2ZyB4bWxucz0iaHR0cDovL3d3dy53My5vcmcvMjAwMC9zdmciIHZpZXdCb3g9IjAgMCAxNTkuMDAyMjY0IDE4My42Ij4NCiAgICA8ZGVmcz4NCiAgICAgICAgPHBhdHRlcm4gaWQ9ImRvdHNwYXR0ZXJuIiB4PSIwIiB5PSIwIiB3aWR0aD0iMTU5LjAwMjI2NCIgaGVpZ2h0PSIxODMuNiIgcGF0dGVyblVuaXRzPSJ1c2VyU3BhY2VPblVzZSIgcGF0dGVyblRyYW5zZm9ybT0ic2NhbGUoMC4yKSI+DQogICAgICAgICAgPGNpcmNsZSBpZD0iYmFzZS1kb3QiIGN4PSI3OS41MDExMzIiIGN5PSI5MS44IiByPSI0NC41NDU5NzQ1IiBmaWxsPSIjNzUzYmJkIi8+DQogICAgICAgICAgPHVzZSBocmVmPSIjYmFzZS1kb3QiIHRyYW5zZm9ybT0idHJhbnNsYXRlKC03OS41MDExMzIsNDUuOSkiIC8+DQogICAgICAgICAgPHVzZSBocmVmPSIjYmFzZS1kb3QiIHRyYW5zZm9ybT0idHJhbnNsYXRlKC03OS41MDExMzIsLTQ1LjkpIiAvPg0KICAgICAgICAgIDx1c2UgaHJlZj0iI2Jhc2UtZG90IiB0cmFuc2Zvcm09InRyYW5zbGF0ZSg3OS41MDExMzIsNDUuOSkiIC8+DQogICAgICAgICAgPHVzZSBocmVmPSIjYmFzZS1kb3QiIHRyYW5zZm9ybT0idHJhbnNsYXRlKDc5LjUwMTEzMiwtNDUuOSkiIC8+DQogICAgICAgICAgPHVzZSBocmVmPSIjYmFzZS1kb3QiIHRyYW5zZm9ybT0idHJhbnNsYXRlKDAsOTEuOCkiIC8+DQogICAgICAgICAgPHVzZSBocmVmPSIjYmFzZS1kb3QiIHRyYW5zZm9ybT0idHJhbnNsYXRlKDAsLTkxLjgpIiAvPg0KICAgICAgICA8L3BhdHRlcm4+DQogICAgPC9kZWZzPg0KDQogICAgPHJlY3QgeD0iMCIgeT0iMCIgd2lkdGg9IjE1OS4wMDIyNjQiIGhlaWdodD0iMTgzLjYiIGZpbGw9InVybCgjZG90c3BhdHRlcm4pIi8+DQo8L3N2Zz4NCg==\"}}],[\"pattern_1\",{\"type\":\"object\",\"name\":\"ImageURLTexture\",\"id\":\"p1002\",\"attributes\":{\"url\":\"data:image/svg+xml;base64,PHN2ZyB4bWxucz0iaHR0cDovL3d3dy53My5vcmcvMjAwMC9zdmciIHZpZXdCb3g9IjAgMCAxOTkuNDcxOTI2IDE0MS4wNzU2NyI+DQogICAgPCEtLSBtaW4gdmlld0JveCBZIDcwLjUzNzgzNS0tPg0KICAgIDxkZWZzPg0KICAgICAgICA8cGF0dGVybiBpZD0iY2FyZXRwYXR0ZXJuIiB4PSIwIiB5PSIwIiB3aWR0aD0iMTk5LjQ3MTkyNiIgaGVpZ2h0PSI3MC41Mzc4MzUiIHBhdHRlcm5Vbml0cz0idXNlclNwYWNlT25Vc2UiIHBhdHRlcm5UcmFuc2Zvcm09InNjYWxlKDAuMTY2NjY2NjY2NjY2KSI+DQogICAgICAgICAgICA8cGF0aCBpZD0iYmFzZS1jYXJldCIgY2xhc3M9ImNhcmV0LXN0cm9rZSIgZD0iTS00OC4zNSwxMy4wODFMMCwtMzUuMjY5TDQ4LjM1LDEzLjA4MSIgc3R5bGU9ImZpbGw6bm9uZTtzdHJva2U6cmdiKDAsMTMzLDEyMCk7c3Ryb2tlLXdpZHRoOjQ1LjU5cHg7Ii8+DQogICAgICAgICAgICA8dXNlIGhyZWY9IiNiYXNlLWNhcmV0IiB0cmFuc2Zvcm09InRyYW5zbGF0ZSg5OS43MzU5NjMsMzUuMjY4OTE3KSIgLz4NCiAgICAgICAgICAgIDx1c2UgaHJlZj0iI2Jhc2UtY2FyZXQiIHRyYW5zZm9ybT0idHJhbnNsYXRlKDk5LjczNTk2MywxMDUuODA2NzUyKSIgLz4NCiAgICAgICAgICAgIDx1c2UgaHJlZj0iI2Jhc2UtY2FyZXQiIHRyYW5zZm9ybT0idHJhbnNsYXRlKDAsNzAuNTM3ODM1KSIgLz4NCiAgICAgICAgICAgIDx1c2UgaHJlZj0iI2Jhc2UtY2FyZXQiIHRyYW5zZm9ybT0idHJhbnNsYXRlKDE5OS40NzE5MjYsMCkiIC8+DQogICAgICAgICAgICA8dXNlIGhyZWY9IiNiYXNlLWNhcmV0IiB0cmFuc2Zvcm09InRyYW5zbGF0ZSgxOTkuNDcxOTI2LDcwLjUzNzgzNSkiIC8+DQogICAgICAgIDwvcGF0dGVybj4NCiAgICA8L2RlZnM+DQogICAgPHJlY3QgeD0iMCIgeT0iMCIgd2lkdGg9IjE5OS40NzE5MjYiIGhlaWdodD0iMTQxLjA3NTY3IiBmaWxsPSJ1cmwoI2NhcmV0cGF0dGVybikiLz4NCjwvc3ZnPg0K\"}}],[\"pattern_2\",{\"type\":\"object\",\"name\":\"ImageURLTexture\",\"id\":\"p1003\",\"attributes\":{\"url\":\"data:image/svg+xml;base64,PHN2ZyB4bWxucz0iaHR0cDovL3d3dy53My5vcmcvMjAwMC9zdmciIHZpZXdCb3g9IjAgMCAxMzMuNzI1IDIzMS42MTg0OTQiPg0KICAgIDxkZWZzPg0KICAgICAgICA8cGF0dGVybiBpZD0idHJpYW5nbGVwYXR0ZXJuIiB4PSI2Ni44NjI1IiB5PSIyIiB3aWR0aD0iMTMzLjcyNSIgaGVpZ2h0PSIyMzEuNjE4NDk0IiBwYXR0ZXJuVW5pdHM9InVzZXJTcGFjZU9uVXNlIiBwYXR0ZXJuVHJhbnNmb3JtPSJzY2FsZSgwLjI1KSI+DQogICAgICAgICAgICA8ZyBpZD0iYmFzZS10cmlhbmdsZSIgdHJhbnNmb3JtPSJyb3RhdGUoMTgwZGVnKSI+DQogICAgICAgICAgICA8cGF0aCAgZD0iTTAsMTAzLjkyMzA0OEw2MCwwTC02MCwwTDAsMTAzLjkyMzA0OFoiIHN0eWxlPSJmaWxsOnJnYigyMDUsMTMyLDIpOyIvPg0KICAgICAgICAgICAgPC9nPg0KICAgICAgICAgICAgPHVzZSBocmVmPSIjYmFzZS10cmlhbmdsZSIgdHJhbnNmb3JtPSJ0cmFuc2xhdGUoNjYuODYyNSwxMTUuODA5MjQ3KSIgLz4NCiAgICAgICAgICAgIDx1c2UgaHJlZj0iI2Jhc2UtdHJpYW5nbGUiIHRyYW5zZm9ybT0idHJhbnNsYXRlKDY2Ljg2MjUsMTA3Ljg4NTExNSkgcm90YXRlKDE4MCkiIC8+DQogICAgICAgICAgICA8dXNlIGhyZWY9IiNiYXNlLXRyaWFuZ2xlIiB0cmFuc2Zvcm09InRyYW5zbGF0ZSgxMzMuNzI1LDApIiAvPg0KICAgICAgICAgICAgPHVzZSBocmVmPSIjYmFzZS10cmlhbmdsZSIgdHJhbnNmb3JtPSJ0cmFuc2xhdGUoMTMzLjcyNSwyMjMuNjk0MzYyKSByb3RhdGUoMTgwKSIgLz4NCiAgICAgICAgICAgIDx1c2UgaHJlZj0iI2Jhc2UtdHJpYW5nbGUiIHRyYW5zZm9ybT0idHJhbnNsYXRlKDAsMjIzLjY5NDM2Mikgcm90YXRlKDE4MCkiIC8+DQogICAgICAgIDwvcGF0dGVybj4NCiAgICA8L2RlZnM+DQoNCiAgICA8cmVjdCB4PSIwIiB5PSIwIiB3aWR0aD0iMTMzLjcyNSIgaGVpZ2h0PSIyMzEuNjE4NDk0IiBmaWxsPSJ1cmwoI3RyaWFuZ2xlcGF0dGVybikiLz4NCjwvc3ZnPg0K\"}}],[\"pattern_3\",{\"type\":\"object\",\"name\":\"ImageURLTexture\",\"id\":\"p1004\",\"attributes\":{\"url\":\"data:image/svg+xml;base64,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\"}}],[\"pattern_4\",{\"type\":\"object\",\"name\":\"ImageURLTexture\",\"id\":\"p1005\",\"attributes\":{\"url\":\"data:image/svg+xml;base64,PHN2ZyB4bWxucz0iaHR0cDovL3d3dy53My5vcmcvMjAwMC9zdmciIHZpZXdCb3g9IjAgMCA4Ni4xNjYzMDQgODYuMTY2MzA0Ij4NCiAgICA8ZGVmcz4NCiAgICAgIDxwYXR0ZXJuIGlkPSJjcm9zc3BhdHRlcm4iIHg9IjAiIHk9IjAiIHdpZHRoPSI4Ni4xNjYzMDQiIGhlaWdodD0iODYuMTY2MzA0IiBwYXR0ZXJuVW5pdHM9InVzZXJTcGFjZU9uVXNlIiBwYXR0ZXJuVHJhbnNmb3JtPSJzY2FsZSgwLjEpIj4NCiAgICAgICAgPHBhdGggaWQ9ImJhc2UtY3Jvc3MiIGQ9Ik05LjQyNywtNTUuMDI5TDQwLjU1OSwtMzguMzY3TDIzLjg5NywtNy4yMzVMNTUuMDI5LDkuNDI3TDM4LjM2Nyw0MC41NTlMNy4yMzUsMjMuODk3TC05LjQyNyw1NS4wMjlMLTQwLjU1OSwzOC4zNjdMLTIzLjg5Nyw3LjIzNUwtNTUuMDI5LC05LjQyN0wtMzguMzY3LC00MC41NTlMLTcuMjM1LC0yMy44OTdMOS40MjcsLTU1LjAyOVoiIHN0eWxlPSJmaWxsOnJnYigyMjIsNDAsMjMpOyIvPg0KDQogICAgICAgIDx1c2UgaHJlZj0iI2Jhc2UtY3Jvc3MiIHRyYW5zZm9ybT0idHJhbnNsYXRlKDg2LjE2NjMwNCwwKSIvPg0KICAgICAgICA8dXNlIGhyZWY9IiNiYXNlLWNyb3NzIiB0cmFuc2Zvcm09InRyYW5zbGF0ZSg4Ni4xNjYzMDQsODYuMTY2MzA0KSIvPg0KICAgICAgICA8dXNlIGhyZWY9IiNiYXNlLWNyb3NzIiB0cmFuc2Zvcm09InRyYW5zbGF0ZSgwLDg2LjE2NjMwNCkiLz4NCiAgICAgIDwvcGF0dGVybj4NCiAgICA8L2RlZnM+DQogICAgPHJlY3QgeD0iMCIgeT0iMCIgd2lkdGg9Ijg2LjE2NjMwNCIgaGVpZ2h0PSI4Ni4xNjYzMDQiIGZpbGw9InVybCgjY3Jvc3NwYXR0ZXJuKSIvPg0KPC9zdmc+DQo=\"}}],[\"pattern_5\",{\"type\":\"object\",\"name\":\"ImageURLTexture\",\"id\":\"p1006\",\"attributes\":{\"url\":\"data:image/svg+xml;base64,PHN2ZyB4bWxucz0iaHR0cDovL3d3dy53My5vcmcvMjAwMC9zdmciIHZpZXdCb3g9IjAgMCA5OC40Njg1OTggMTQ3LjE1NzE3NiI+DQogICAgPGRlZnM+DQogICAgICAgIDxwYXR0ZXJuIGlkPSJkaWFtb25kcGF0dGVybiIgeD0iMCIgeT0iMCIgd2lkdGg9Ijk4LjQ2ODU5OCIgaGVpZ2h0PSIxNDcuMTU3MTc2IiBwYXR0ZXJuVW5pdHM9InVzZXJTcGFjZU9uVXNlIiBwYXR0ZXJuVHJhbnNmb3JtPSJzY2FsZSgwLjE2NjY2NjY2NjY2NjY2NjYpIj4NCiAgICAgIDxwYXRoIGlkPSJiYXNlLWRpYW1vbmQiIGQ9Ik00OS4yMzQsNS4zMjdMOTQuOTA0LDczLjU3OUw0OS4yMzQsMTQxLjgzTDMuNTY0LDczLjU3OUw0OS4yMzQsNS4zMjdaIiBzdHlsZT0iZmlsbDpyZ2IoMTgsMTU5LDIxMik7Ii8+DQogICAgICAgICAgPHVzZSBocmVmPSIjYmFzZS1kaWFtb25kIiB0cmFuc2Zvcm09InRyYW5zbGF0ZSgtNDkuMjM0Mjk5LDczLjU3ODU4OCkiIC8+DQogICAgICAgICAgPHVzZSBocmVmPSIjYmFzZS1kaWFtb25kIiB0cmFuc2Zvcm09InRyYW5zbGF0ZSg0OS4yMzQyOTksNzMuNTc4NTg4KSIgLz4NCiAgICAgICAgICA8dXNlIGhyZWY9IiNiYXNlLWRpYW1vbmQiIHRyYW5zZm9ybT0idHJhbnNsYXRlKC00OS4yMzQyOTksLTczLjU3ODU4OCkiIC8+DQogICAgICAgICAgPHVzZSBocmVmPSIjYmFzZS1kaWFtb25kIiB0cmFuc2Zvcm09InRyYW5zbGF0ZSg0OS4yMzQyOTksLTczLjU3ODU4OCkiIC8+DQogICAgICAgIDwvcGF0dGVybj4NCiAgICA8L2RlZnM+DQoNCiAgICA8cmVjdCB4PSIwIiB5PSIwIiB3aWR0aD0iOTguNDY4NTk4IiBoZWlnaHQ9IjE0Ny4xNTcxNzYiIGZpbGw9InVybCgjZGlhbW9uZHBhdHRlcm4pIi8+DQo8L3N2Zz4NCg==\"}}],[\"pattern_6\",{\"type\":\"object\",\"name\":\"ImageURLTexture\",\"id\":\"p1007\",\"attributes\":{\"url\":\"data:image/svg+xml;base64,PHN2ZyB4bWxucz0iaHR0cDovL3d3dy53My5vcmcvMjAwMC9zdmciIHZpZXdCb3g9IjAgMCA4NS4wMjkxODIgODUuMDI5MTgyIj4NCiAgICA8ZGVmcz4NCiAgICAgICAgPHBhdHRlcm4gaWQ9InNxdWFyZXBhdHRlcm4iIHg9IjMuMDM2NzU2NSIgeT0iMy4wMzY3NTY1IiB3aWR0aD0iODUuMDI5MTgyIiBoZWlnaHQ9Ijg1LjAyOTE4MiIgcGF0dGVyblVuaXRzPSJ1c2VyU3BhY2VPblVzZSIgcGF0dGVyblRyYW5zZm9ybT0ic2NhbGUoMC4xKSI+DQogICAgICAgICAgPHJlY3QgeD0iMCIgeT0iMCIgd2lkdGg9Ijc4Ljk1NTY2OSIgaGVpZ2h0PSI3OC45NTU2NjkiIGZpbGw9IiNCRDBGNzciLz4NCiAgICAgICAgPC9wYXR0ZXJuPg0KICAgIDwvZGVmcz4NCg0KICAgIDxyZWN0IHg9IjAiIHk9IjAiIHdpZHRoPSI4NS4wMjkxODIiIGhlaWdodD0iODUuMDI5MTgyIiBmaWxsPSJ1cmwoI3NxdWFyZXBhdHRlcm4pIi8+DQo8L3N2Zz4NCg==\"}}],[\"pattern_7\",{\"type\":\"object\",\"name\":\"ImageURLTexture\",\"id\":\"p1008\",\"attributes\":{\"url\":\"data:image/svg+xml;base64,PHN2ZyB4bWxucz0iaHR0cDovL3d3dy53My5vcmcvMjAwMC9zdmciIHZpZXdCb3g9IjAgMCAxNjMuNzUzOTEgOTQuNTg4OTU0Ij4NCiAgICA8ZGVmcz4NCiAgICAgICAgPHBhdHRlcm4gaWQ9InRyaXN0YXJwYXR0ZXJuIiB4PSIwIiB5PSIwIiB3aWR0aD0iMTYzLjc1MzkxIiBoZWlnaHQ9Ijk0LjU4ODk1NCIgcGF0dGVyblVuaXRzPSJ1c2VyU3BhY2VPblVzZSIgcGF0dGVyblRyYW5zZm9ybT0ic2NhbGUoMC4xKSI+DQogICAgICAgICAgICA8cGF0aCBpZD0iYmFzZS10cmlzdGFyMSIgdHJhbnNmb3JtPSJ0cmFuc2xhdGUoLTQ4Ljk4NDM2MiwwKSIgZD0iTTI0LjQ5Miw1Ni41NjJMMCw0Mi40MjJMMCwxNC4xNDFMMjQuNDkyLDBMNDguOTg0LDE0LjE0MUw3My40NzcsMEw5Ny45NjksMTQuMTQxTDk3Ljk2OSw0Mi40MjJMNzMuNDc3LDU2LjU2Mkw3My40NzcsODQuODQzTDQ4Ljk4NCw5OC45ODRMMjQuNDkyLDg0Ljg0M0wyNC40OTIsNTYuNTYyWiIgc3R5bGU9ImZpbGw6cmdiKDc2LDE2Nyw0Myk7Ii8+DQogICAgICAgICAgICA8cGF0aCBpZD0iYmFzZS10cmlzdGFyMiIgdHJhbnNmb3JtPSJ0cmFuc2xhdGUoLTQ4Ljk4NDM2MiwwKSIgZD0iTTE1NS4zNTMsNDcuMzE2TDE3OS44NDYsNjEuNDU3TDE3OS44NDYsODkuNzM4TDE1NS4zNTMsMTAzLjg3OUwxMzAuODYxLDg5LjczOEwxMDYuMzY5LDEwMy44NzlMODEuODc3LDg5LjczOEw4MS44NzcsNjEuNDU3TDEwNi4zNjksNDcuMzE2TDEwNi4zNjksMTkuMDM1TDEzMC44NjEsNC44OTVMMTU1LjM1MywxOS4wMzVMMTU1LjM1Myw0Ny4zMTZaIiBzdHlsZT0iZmlsbDpyZ2IoNzYsMTY3LDQzKTsiLz4NCiAgICAgICAgICAgIDx1c2UgaHJlZj0iI2Jhc2UtdHJpc3RhcjEiIHRyYW5zZm9ybT0idHJhbnNsYXRlKDE2My43NTM5MSwwKSIvPg0KICAgICAgICAgICAgPHVzZSBocmVmPSIjYmFzZS10cmlzdGFyMSIgdHJhbnNmb3JtPSJ0cmFuc2xhdGUoMTYzLjc1MzkxLC05NC41ODg5NTQpIi8+DQogICAgICAgICAgICA8dXNlIGhyZWY9IiNiYXNlLXRyaXN0YXIxIiB0cmFuc2Zvcm09InRyYW5zbGF0ZSgwLC05NC41ODg5NTQpIi8+DQogICAgICAgICAgICA8dXNlIGhyZWY9IiNiYXNlLXRyaXN0YXIyIiB0cmFuc2Zvcm09InRyYW5zbGF0ZSgwLC05NC41ODg5NTQpIiAvPg0KICAgICAgICA8L3BhdHRlcm4+DQogICAgPC9kZWZzPg0KDQogICAgPHJlY3QgeD0iMCIgeT0iMCIgd2lkdGg9IjE2My43NTM5MSIgaGVpZ2h0PSI5NC41ODg5NTQiIGZpbGw9InVybCgjdHJpc3RhcnBhdHRlcm4pIi8+DQo8L3N2Zz4NCg==\"}}]]}}},\"nonselection_glyph\":{\"type\":\"object\",\"name\":\"VBar\",\"id\":\"p1036\",\"attributes\":{\"x\":{\"type\":\"field\",\"field\":\"x\"},\"width\":{\"type\":\"value\",\"value\":0.9},\"top\":{\"type\":\"field\",\"field\":\"top\"},\"line_color\":{\"type\":\"value\",\"value\":null},\"line_alpha\":{\"type\":\"value\",\"value\":0.1},\"fill_color\":{\"type\":\"value\",\"value\":\"#75757533\"},\"fill_alpha\":{\"type\":\"value\",\"value\":0.1},\"hatch_alpha\":{\"type\":\"value\",\"value\":0.1},\"hatch_pattern\":{\"type\":\"field\",\"field\":\"hatch_pattern\"},\"hatch_extra\":{\"type\":\"map\",\"entries\":[[\"pattern_0\",{\"id\":\"p1001\"}],[\"pattern_1\",{\"id\":\"p1002\"}],[\"pattern_2\",{\"id\":\"p1003\"}],[\"pattern_3\",{\"id\":\"p1004\"}],[\"pattern_4\",{\"id\":\"p1005\"}],[\"pattern_5\",{\"id\":\"p1006\"}],[\"pattern_6\",{\"id\":\"p1007\"}],[\"pattern_7\",{\"id\":\"p1008\"}]]}}},\"muted_glyph\":{\"type\":\"object\",\"name\":\"VBar\",\"id\":\"p1037\",\"attributes\":{\"x\":{\"type\":\"field\",\"field\":\"x\"},\"width\":{\"type\":\"value\",\"value\":0.9},\"top\":{\"type\":\"field\",\"field\":\"top\"},\"line_color\":{\"type\":\"value\",\"value\":null},\"line_alpha\":{\"type\":\"value\",\"value\":0.2},\"fill_color\":{\"type\":\"value\",\"value\":\"#75757533\"},\"fill_alpha\":{\"type\":\"value\",\"value\":0.2},\"hatch_alpha\":{\"type\":\"value\",\"value\":0.2},\"hatch_pattern\":{\"type\":\"field\",\"field\":\"hatch_pattern\"},\"hatch_extra\":{\"type\":\"map\",\"entries\":[[\"pattern_0\",{\"id\":\"p1001\"}],[\"pattern_1\",{\"id\":\"p1002\"}],[\"pattern_2\",{\"id\":\"p1003\"}],[\"pattern_3\",{\"id\":\"p1004\"}],[\"pattern_4\",{\"id\":\"p1005\"}],[\"pattern_5\",{\"id\":\"p1006\"}],[\"pattern_6\",{\"id\":\"p1007\"}],[\"pattern_7\",{\"id\":\"p1008\"}]]}}}}}],\"toolbar\":{\"type\":\"object\",\"name\":\"Toolbar\",\"id\":\"p1018\"},\"left\":[{\"type\":\"object\",\"name\":\"LinearAxis\",\"id\":\"p1027\",\"attributes\":{\"ticker\":{\"type\":\"object\",\"name\":\"BasicTicker\",\"id\":\"p1028\",\"attributes\":{\"mantissas\":[1,2,5]}},\"formatter\":{\"type\":\"object\",\"name\":\"BasicTickFormatter\",\"id\":\"p1029\"},\"major_label_policy\":{\"type\":\"object\",\"name\":\"AllLabels\",\"id\":\"p1030\"}}}],\"below\":[{\"type\":\"object\",\"name\":\"CategoricalAxis\",\"id\":\"p1022\",\"attributes\":{\"ticker\":{\"type\":\"object\",\"name\":\"CategoricalTicker\",\"id\":\"p1023\"},\"formatter\":{\"type\":\"object\",\"name\":\"CategoricalTickFormatter\",\"id\":\"p1024\"},\"major_label_policy\":{\"type\":\"object\",\"name\":\"AllLabels\",\"id\":\"p1025\"}}}],\"center\":[{\"type\":\"object\",\"name\":\"Grid\",\"id\":\"p1026\",\"attributes\":{\"axis\":{\"id\":\"p1022\"}}},{\"type\":\"object\",\"name\":\"Grid\",\"id\":\"p1031\",\"attributes\":{\"dimension\":1,\"axis\":{\"id\":\"p1027\"}}}],\"background_fill_color\":null,\"border_fill_color\":null,\"output_backend\":\"svg\"}}]}};\n  const render_items = [{\"docid\":\"04659f55-60f5-430b-9667-6dcd48d64828\",\"roots\":{\"p1009\":\"f8883afe-5547-4dd8-9c56-66dd52c994e7\"},\"root_ids\":[\"p1009\"]}];\n  void root.Bokeh.embed.embed_items_notebook(docs_json, render_items);\n  }\n  if (root.Bokeh !== undefined) {\n    embed_document(root);\n  } else {\n    let attempts = 0;\n    const timer = setInterval(function(root) {\n      if (root.Bokeh !== undefined) {\n        clearInterval(timer);\n        embed_document(root);\n      } else {\n        attempts++;\n        if (attempts > 100) {\n          clearInterval(timer);\n          console.log(\"Bokeh: ERROR: Unable to run BokehJS code because BokehJS library is missing\");\n        }\n      }\n    }, 10, root)\n  }\n})(window);",
      "application/vnd.bokehjs_exec.v0+json": ""
     },
     "metadata": {
      "application/vnd.bokehjs_exec.v0+json": {
       "id": "p1009"
      }
     },
     "output_type": "display_data"
    }
   ],
   "source": [
    "p.output_backend=\"svg\"\n",
    "p.y_range.start=0 # Säulen auf der x-Achse beginnen lassen\n",
    "p.background_fill_color = None # Hintergrundfarbe entfernen\n",
    "p.border_fill_color = None     # Umrandung entfernen\n",
    "\n",
    "show(p)"
   ]
  },
  {
   "cell_type": "markdown",
   "metadata": {},
   "source": [
    "## Implementation Vega-Altair\n",
    "\n",
    "In Altair wird direkt die `pattern`-Funktionalität der SVG benutzt. Hier wird über die ID ein _Pattern_ aus den SVG-`defs` ausgewählt."
   ]
  },
  {
   "cell_type": "markdown",
   "metadata": {},
   "source": [
    "Wir benötigen die Funktion `display_html` von IPython, um die [SVGs inline](https://developer.mozilla.org/en-US/docs/Web/SVG/Tutorial/SVG_In_HTML_Introduction) ins HTML zu integrieren, damit wir sie später als Pattern in Altair verwenden können."
   ]
  },
  {
   "cell_type": "code",
   "execution_count": 7,
   "metadata": {},
   "outputs": [],
   "source": [
    "from IPython.display import display_html"
   ]
  },
  {
   "cell_type": "markdown",
   "metadata": {},
   "source": [
    "Wir definieren eine Funktion zum Einlesen und decodieren der SVG.\n",
    "Anschließend rufen wir die Funktion für unsere SVG auf und integrieren die Pattern in das HTML."
   ]
  },
  {
   "cell_type": "code",
   "execution_count": 8,
   "metadata": {},
   "outputs": [
    {
     "data": {
      "text/html": [
       "<svg width=\"0\" height=\"0\" version=\"1.1\" xmlns=\"http://www.w3.org/2000/svg\" xmlns:xlink=\"http://www.w3.org/1999/xlink\" xml:space=\"preserve\" xmlns:serif=\"http://www.serif.com/\" style=\"fill-rule:evenodd;clip-rule:evenodd;\">\r\n",
       "    <defs>\r\n",
       "        <pattern id=\"dotspattern\" x=\"10\" y=\"10\" width=\"159.002264\" height=\"183.6\" patternUnits=\"userSpaceOnUse\" patternTransform=\"scale(0.2)\">\r\n",
       "          <circle id=\"base-dot\" cx=\"79.501132\" cy=\"91.8\" r=\"44.5459745\" fill=\"#753bbd\"/>\r\n",
       "          <use xlink:href=\"#base-dot\" transform=\"translate(-79.501132,45.9)\" />\r\n",
       "          <use xlink:href=\"#base-dot\" transform=\"translate(-79.501132,-45.9)\" />\r\n",
       "          <use xlink:href=\"#base-dot\" transform=\"translate(79.501132,45.9)\" />\r\n",
       "          <use xlink:href=\"#base-dot\" transform=\"translate(79.501132,-45.9)\" />\r\n",
       "          <use xlink:href=\"#base-dot\" transform=\"translate(0,91.8)\" />\r\n",
       "          <use xlink:href=\"#base-dot\" transform=\"translate(0,-91.8)\" />\r\n",
       "        </pattern>\r\n",
       "        <pattern id=\"diamondpattern\" x=\"0\" y=\"0\" width=\"98.468598\" height=\"147.157176\" patternUnits=\"userSpaceOnUse\" patternTransform=\"scale(0.18)\">\r\n",
       "          <path id=\"base-diamond\" d=\"M49.234,5.327L94.904,73.579L49.234,141.83L3.564,73.579L49.234,5.327Z\" style=\"fill:rgb(18,159,212);\"/>\r\n",
       "          <use xlink:href=\"#base-diamond\" transform=\"translate(-49.234299,73.578588)\" />\r\n",
       "          <use xlink:href=\"#base-diamond\" transform=\"translate(49.234299,73.578588)\" />\r\n",
       "          <use xlink:href=\"#base-diamond\" transform=\"translate(-49.234299,-73.578588)\" />\r\n",
       "          <use xlink:href=\"#base-diamond\" transform=\"translate(49.234299,-73.578588)\" />\r\n",
       "        </pattern>\r\n",
       "        <pattern id=\"stripepattern\" x=\"0\" y=\"0\" width=\"200\" height=\"50\" patternUnits=\"userSpaceOnUse\" patternTransform=\"scale(0.2)\">\r\n",
       "          <rect id=\"stripe-base\" x=\"0\" y=\"0\" width=\"200\" height=\"42.5\" fill=\"#757575\"/>\r\n",
       "        </pattern>\r\n",
       "        <pattern id=\"tristarpattern\" x=\"0\" y=\"0\" width=\"163.75391\" height=\"94.588954\" patternUnits=\"userSpaceOnUse\" patternTransform=\"scale(0.18)\">\r\n",
       "          <path id=\"base-tristar1\" transform=\"translate(-48.984362,0)\" d=\"M24.492,56.562L0,42.422L0,14.141L24.492,0L48.984,14.141L73.477,0L97.969,14.141L97.969,42.422L73.477,56.562L73.477,84.843L48.984,98.984L24.492,84.843L24.492,56.562Z\" style=\"fill:rgb(76,167,43);\"/>\r\n",
       "          <path id=\"base-tristar2\" transform=\"translate(-48.984362,0)\" d=\"M155.353,47.316L179.846,61.457L179.846,89.738L155.353,103.879L130.861,89.738L106.369,103.879L81.877,89.738L81.877,61.457L106.369,47.316L106.369,19.035L130.861,4.895L155.353,19.035L155.353,47.316Z\" style=\"fill:rgb(76,167,43);\"/>\r\n",
       "          <use xlink:href=\"#base-tristar1\" transform=\"translate(163.75391,0)\"/>\r\n",
       "          <use xlink:href=\"#base-tristar1\" transform=\"translate(163.75391,-94.588954)\"/>\r\n",
       "          <use xlink:href=\"#base-tristar1\" transform=\"translate(0,-94.588954)\"/>\r\n",
       "          <use xlink:href=\"#base-tristar2\" transform=\"translate(0,-94.588954)\" />\r\n",
       "        </pattern>\r\n",
       "        <pattern id=\"squarepattern\" x=\"0\" y=\"0\" width=\"85.029182\" height=\"85.029182\" patternUnits=\"userSpaceOnUse\" patternTransform=\"scale(0.2)\">\r\n",
       "          <rect x=\"0\" y=\"0\" width=\"78.955669\" height=\"78.955669\" fill=\"#BD0F77\"/>\r\n",
       "        </pattern>\r\n",
       "        <pattern id=\"trianglepattern\" x=\"0\" y=\"0\" width=\"133.725\" height=\"231.618494\" patternUnits=\"userSpaceOnUse\" patternTransform=\"scale(0.2)\">\r\n",
       "          <path id=\"base-triangle\" d=\"M-0,103.923L60,0L-60,0L-0,103.923Z\" style=\"fill:rgb(205,132,2);\"/>\r\n",
       "          <use xlink:href=\"#base-triangle\" transform=\"translate(66.8625,115.809247)\" />\r\n",
       "          <use xlink:href=\"#base-triangle\" transform=\"translate(66.8625,107.885115) rotate(180)\" />\r\n",
       "          <use xlink:href=\"#base-triangle\" transform=\"translate(133.725,0)\" />\r\n",
       "          <use xlink:href=\"#base-triangle\" transform=\"translate(133.725,223.694362) rotate(180)\" />\r\n",
       "          <use xlink:href=\"#base-triangle\" transform=\"translate(0,223.694362) rotate(180)\" />\r\n",
       "        </pattern>\r\n",
       "        <pattern id=\"crosspattern\" x=\"0\" y=\"0\" width=\"86.166304\" height=\"86.166304\" patternUnits=\"userSpaceOnUse\" patternTransform=\"rotate(16.84402287240401) scale(0.2)\">\r\n",
       "          <path id=\"base-cross\" d=\"M9.427,-55.029L40.559,-38.367L23.897,-7.235L55.029,9.427L38.367,40.559L7.235,23.897L-9.427,55.029L-40.559,38.367L-23.897,7.235L-55.029,-9.427L-38.367,-40.559L-7.235,-23.897L9.427,-55.029Z\" style=\"fill:rgb(222,40,23);\"/>\r\n",
       "          <use xlink:href=\"#base-cross\" transform=\"translate(86.166304,0)\"/>\r\n",
       "          <use xlink:href=\"#base-cross\" transform=\"translate(86.166304,86.166304)\"/>\r\n",
       "          <use xlink:href=\"#base-cross\" transform=\"translate(0,86.166304)\"/>\r\n",
       "        </pattern>\r\n",
       "        <pattern id=\"spiralpattern\" x=\"0\" y=\"0\" width=\"141.305462\" height=\"80.921615\" patternUnits=\"userSpaceOnUse\" patternTransform=\"skewX(-10.342516055954842) scale(0.25)\"   style=\"fill-rule:evenodd;clip-rule:evenodd;stroke-linecap:round;stroke-linejoin:round;stroke-miterlimit:1;\">\r\n",
       "          <g id=\"base-spiral\" transform=\"matrix(0.571164,-0.0466398,0.152429,0.579676,-0.714298,6.4775)\">\r\n",
       "            <path d=\"M82.17,0C81.17,-44.829 44.829,-81.17 -0,-81.17C-40.754,-81.17 -73.791,-48.133 -73.791,-7.379C-73.791,28.846 -44.424,58.213 -8.199,58.213C23.498,58.213 49.194,32.517 49.194,0.82C49.194,-26.349 27.169,-48.374 -0,-48.374C-22.641,-48.374 -40.995,-30.02 -40.995,-7.379C-40.995,10.734 -26.312,25.417 -8.199,25.417C5.386,25.417 16.398,14.404 16.398,0.82C16.398,-8.236 9.056,-15.578 -0,-15.578C-4.528,-15.578 -8.199,-11.907 -8.199,-7.379\" style=\"fill:none;stroke:rgb(6,99,181);stroke-width:21.36px;\"/>\r\n",
       "          </g>\r\n",
       "          <use xlink:href=\"#base-spiral\" transform=\"translate(70.6527313,40.460808)\" />\r\n",
       "          <use xlink:href=\"#base-spiral\" transform=\"translate(141.305463,0)\" />\r\n",
       "          <use xlink:href=\"#base-spiral\" transform=\"translate(141.305463,80.921616)\" />\r\n",
       "          <use xlink:href=\"#base-spiral\" transform=\"translate(141.305463,80.921616)\" />\r\n",
       "          <use xlink:href=\"#base-spiral\" transform=\"translate(0,80.921616)\" />\r\n",
       "          <use xlink:href=\"#base-spiral\" transform=\"translate(70.652732,-40.460807)\" />\r\n",
       "        </pattern>\r\n",
       "        <pattern id=\"caretpattern\" x=\"0\" y=\"0\" width=\"199.471926\" height=\"70.537835\" patternUnits=\"userSpaceOnUse\" patternTransform=\"scale(0.2)\">\r\n",
       "            <path id=\"base-caret\" class=\"caret-stroke\" d=\"M-48.35,13.081L0,-35.269L48.35,13.081\" style=\"fill:none;stroke:rgb(0,133,120);stroke-width:45.59px;\"/>\r\n",
       "            <use xlink:href=\"#base-caret\" transform=\"translate(99.735963,35.268917)\" />\r\n",
       "            <use xlink:href=\"#base-caret\" transform=\"translate(99.735963,105.806752)\" />\r\n",
       "            <use xlink:href=\"#base-caret\" transform=\"translate(0,70.537835)\" />\r\n",
       "            <use xlink:href=\"#base-caret\" transform=\"translate(199.471926,0)\" />\r\n",
       "            <use xlink:href=\"#base-caret\" transform=\"translate(199.471926,70.537835)\" />\r\n",
       "        </pattern>\r\n",
       "    </defs>\r\n",
       "</svg>\r\n"
      ]
     },
     "metadata": {},
     "output_type": "display_data"
    }
   ],
   "source": [
    "def read_svg(svg_path):\n",
    "    with open(svg_path, \"rb\") as svg_file:\n",
    "        svg = svg_file.read().decode(\"utf-8\")\n",
    "    return svg\n",
    "\n",
    "display_html(\n",
    "    read_svg(\"../../_static/pattern/cusypattern.svg\"), \n",
    "    raw=True\n",
    ")"
   ]
  },
  {
   "cell_type": "markdown",
   "metadata": {},
   "source": [
    "Wir benutzen einen pandas-Dataframe, um die Daten für Altair bereitzustellen."
   ]
  },
  {
   "cell_type": "code",
   "execution_count": 9,
   "metadata": {},
   "outputs": [],
   "source": [
    "import altair as alt\n",
    "import pandas as pd\n",
    "\n",
    "# Daten definieren\n",
    "data = pd.DataFrame({\n",
    "    \"category\": [\"Purple\", \"Teal\", \"Orange\", \"Blue\", \"Red\", \"Cyan\", \"Magenta\", \"Green\"],\n",
    "    \"value\": [90, 80, 50, 55, 50, 60, 40, 80],\n",
    "    \"pattern\": [\n",
    "        \"pattern_0\",\n",
    "        \"pattern_1\",\n",
    "        \"pattern_2\",\n",
    "        \"pattern_3\",\n",
    "        \"pattern_4\",\n",
    "        \"pattern_5\",\n",
    "        \"pattern_6\",\n",
    "        \"pattern_7\"\n",
    "    ]\n",
    "})"
   ]
  },
  {
   "cell_type": "markdown",
   "metadata": {},
   "source": [
    "Wir sagen Pandas, dass die x-Achse aus den Kategorien bestehen und die y-Achse die zugehörigen Werte darstellen soll.  \n",
    "Im `alt.Fill`-Channel benutzen wir die ID des jeweiligen SVG-Pattern, um die Füllung festzulegen."
   ]
  },
  {
   "cell_type": "code",
   "execution_count": 10,
   "metadata": {},
   "outputs": [],
   "source": [
    "chart = alt.Chart(data, title=\"cusy Pattern Example\", width=600, height=400).mark_bar(stroke=None).encode(\n",
    "    x=alt.X(\"category:N\",\n",
    "            sort=[\"Purple\", \"Teal\", \"Orange\", \"Blue\", \"Red\", \"Cyan\", \"Magenta\", \"Green\"],\n",
    "            axis=alt.Axis(title=None, labelAngle=0)),\n",
    "    y=alt.Y(\"value:Q\", axis=alt.Axis(title=None)),\n",
    "    fill=alt.Fill(\"pattern:N\",\n",
    "                  scale=alt.Scale(\n",
    "                      range=[\n",
    "                          \"url(#dotspattern)\",\n",
    "                          \"url(#caretpattern)\",\n",
    "                          \"url(#trianglepattern)\",\n",
    "                          \"url(#spiralpattern)\",\n",
    "                          \"url(#crosspattern)\",\n",
    "                          \"url(#diamondpattern)\",\n",
    "                          \"url(#squarepattern)\",\n",
    "                          \"url(#tristarpattern)\",\n",
    "                      ]\n",
    "                  ),\n",
    "                  legend=None)\n",
    ")"
   ]
  },
  {
   "cell_type": "markdown",
   "metadata": {},
   "source": [
    "Auch in Altair müssen wir auf das SVG-Backend wechseln.  \n",
    "Anschließend geben wir den Namen des Plots an, um ihn anzuzeigen."
   ]
  },
  {
   "cell_type": "code",
   "execution_count": 11,
   "metadata": {},
   "outputs": [
    {
     "data": {
      "text/html": [
       "\n",
       "<style>\n",
       "  #altair-viz-b11953b81abe419096c1d739bd497163.vega-embed {\n",
       "    width: 100%;\n",
       "    display: flex;\n",
       "  }\n",
       "\n",
       "  #altair-viz-b11953b81abe419096c1d739bd497163.vega-embed details,\n",
       "  #altair-viz-b11953b81abe419096c1d739bd497163.vega-embed details summary {\n",
       "    position: relative;\n",
       "  }\n",
       "</style>\n",
       "<div id=\"altair-viz-b11953b81abe419096c1d739bd497163\"></div>\n",
       "<script type=\"text/javascript\">\n",
       "  var VEGA_DEBUG = (typeof VEGA_DEBUG == \"undefined\") ? {} : VEGA_DEBUG;\n",
       "  (function(spec, embedOpt){\n",
       "    let outputDiv = document.currentScript.previousElementSibling;\n",
       "    if (outputDiv.id !== \"altair-viz-b11953b81abe419096c1d739bd497163\") {\n",
       "      outputDiv = document.getElementById(\"altair-viz-b11953b81abe419096c1d739bd497163\");\n",
       "    }\n",
       "\n",
       "    const paths = {\n",
       "      \"vega\": \"https://cdn.jsdelivr.net/npm/vega@5?noext\",\n",
       "      \"vega-lib\": \"https://cdn.jsdelivr.net/npm/vega-lib?noext\",\n",
       "      \"vega-lite\": \"https://cdn.jsdelivr.net/npm/vega-lite@5.20.1?noext\",\n",
       "      \"vega-embed\": \"https://cdn.jsdelivr.net/npm/vega-embed@6?noext\",\n",
       "    };\n",
       "\n",
       "    function maybeLoadScript(lib, version) {\n",
       "      var key = `${lib.replace(\"-\", \"\")}_version`;\n",
       "      return (VEGA_DEBUG[key] == version) ?\n",
       "        Promise.resolve(paths[lib]) :\n",
       "        new Promise(function(resolve, reject) {\n",
       "          var s = document.createElement('script');\n",
       "          document.getElementsByTagName(\"head\")[0].appendChild(s);\n",
       "          s.async = true;\n",
       "          s.onload = () => {\n",
       "            VEGA_DEBUG[key] = version;\n",
       "            return resolve(paths[lib]);\n",
       "          };\n",
       "          s.onerror = () => reject(`Error loading script: ${paths[lib]}`);\n",
       "          s.src = paths[lib];\n",
       "        });\n",
       "    }\n",
       "\n",
       "    function showError(err) {\n",
       "      outputDiv.innerHTML = `<div class=\"error\" style=\"color:red;\">${err}</div>`;\n",
       "      throw err;\n",
       "    }\n",
       "\n",
       "    function displayChart(vegaEmbed) {\n",
       "      vegaEmbed(outputDiv, spec, embedOpt)\n",
       "        .catch(err => showError(`Javascript Error: ${err.message}<br>This usually means there's a typo in your chart specification. See the javascript console for the full traceback.`));\n",
       "    }\n",
       "\n",
       "    if(typeof define === \"function\" && define.amd) {\n",
       "      requirejs.config({paths});\n",
       "      let deps = [\"vega-embed\"];\n",
       "      require(deps, displayChart, err => showError(`Error loading script: ${err.message}`));\n",
       "    } else {\n",
       "      maybeLoadScript(\"vega\", \"5\")\n",
       "        .then(() => maybeLoadScript(\"vega-lite\", \"5.20.1\"))\n",
       "        .then(() => maybeLoadScript(\"vega-embed\", \"6\"))\n",
       "        .catch(showError)\n",
       "        .then(() => displayChart(vegaEmbed));\n",
       "    }\n",
       "  })({\"config\": {\"view\": {\"continuousWidth\": 300, \"continuousHeight\": 300}}, \"data\": {\"name\": \"data-9445530caf4e50b4340a485f6ec7d879\"}, \"mark\": {\"type\": \"bar\", \"stroke\": null}, \"encoding\": {\"fill\": {\"field\": \"pattern\", \"legend\": null, \"scale\": {\"range\": [\"url(#dotspattern)\", \"url(#caretpattern)\", \"url(#trianglepattern)\", \"url(#spiralpattern)\", \"url(#crosspattern)\", \"url(#diamondpattern)\", \"url(#squarepattern)\", \"url(#tristarpattern)\"]}, \"type\": \"nominal\"}, \"x\": {\"axis\": {\"labelAngle\": 0, \"title\": null}, \"field\": \"category\", \"sort\": [\"Purple\", \"Teal\", \"Orange\", \"Blue\", \"Red\", \"Cyan\", \"Magenta\", \"Green\"], \"type\": \"nominal\"}, \"y\": {\"axis\": {\"title\": null}, \"field\": \"value\", \"type\": \"quantitative\"}}, \"height\": 400, \"title\": \"cusy Pattern Example\", \"width\": 600, \"$schema\": \"https://vega.github.io/schema/vega-lite/v5.20.1.json\", \"datasets\": {\"data-9445530caf4e50b4340a485f6ec7d879\": [{\"category\": \"Purple\", \"value\": 90, \"pattern\": \"pattern_0\"}, {\"category\": \"Teal\", \"value\": 80, \"pattern\": \"pattern_1\"}, {\"category\": \"Orange\", \"value\": 50, \"pattern\": \"pattern_2\"}, {\"category\": \"Blue\", \"value\": 55, \"pattern\": \"pattern_3\"}, {\"category\": \"Red\", \"value\": 50, \"pattern\": \"pattern_4\"}, {\"category\": \"Cyan\", \"value\": 60, \"pattern\": \"pattern_5\"}, {\"category\": \"Magenta\", \"value\": 40, \"pattern\": \"pattern_6\"}, {\"category\": \"Green\", \"value\": 80, \"pattern\": \"pattern_7\"}]}}, {\"renderer\": \"svg\", \"mode\": \"vega-lite\"});\n",
       "</script>"
      ],
      "text/plain": [
       "alt.Chart(...)"
      ]
     },
     "execution_count": 11,
     "metadata": {},
     "output_type": "execute_result"
    }
   ],
   "source": [
    "alt.renderers.set_embed_options(renderer='svg')\n",
    "\n",
    "chart"
   ]
  }
 ],
 "metadata": {
  "kernelspec": {
   "display_name": ".venv",
   "language": "python",
   "name": "python3"
  },
  "language_info": {
   "codemirror_mode": {
    "name": "ipython",
    "version": 3
   },
   "file_extension": ".py",
   "mimetype": "text/x-python",
   "name": "python",
   "nbconvert_exporter": "python",
   "pygments_lexer": "ipython3",
   "version": "3.12.4"
  }
 },
 "nbformat": 4,
 "nbformat_minor": 4
}
